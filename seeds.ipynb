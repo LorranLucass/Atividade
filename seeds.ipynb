{
 "cells": [
  {
   "cell_type": "code",
   "execution_count": 27,
   "metadata": {},
   "outputs": [
    {
     "name": "stderr",
     "output_type": "stream",
     "text": [
      "C:\\Users\\23214290059\\AppData\\Local\\Temp\\ipykernel_5464\\1367439874.py:4: FutureWarning: The 'delim_whitespace' keyword in pd.read_csv is deprecated and will be removed in a future version. Use ``sep='\\s+'`` instead\n",
      "  seeds_df = pd.read_csv('seeds.csv', header=None, delim_whitespace=True, on_bad_lines='skip')\n"
     ]
    },
    {
     "data": {
      "text/html": [
       "<div>\n",
       "<style scoped>\n",
       "    .dataframe tbody tr th:only-of-type {\n",
       "        vertical-align: middle;\n",
       "    }\n",
       "\n",
       "    .dataframe tbody tr th {\n",
       "        vertical-align: top;\n",
       "    }\n",
       "\n",
       "    .dataframe thead th {\n",
       "        text-align: right;\n",
       "    }\n",
       "</style>\n",
       "<table border=\"1\" class=\"dataframe\">\n",
       "  <thead>\n",
       "    <tr style=\"text-align: right;\">\n",
       "      <th></th>\n",
       "      <th>0</th>\n",
       "    </tr>\n",
       "  </thead>\n",
       "  <tbody>\n",
       "    <tr>\n",
       "      <th>0</th>\n",
       "      <td>15.26,14.84,0.871,5.763,3.312,2.221,5.22,1</td>\n",
       "    </tr>\n",
       "    <tr>\n",
       "      <th>1</th>\n",
       "      <td>14.88,14.57,0.8811,5.554,3.333,1.018,4.956,1</td>\n",
       "    </tr>\n",
       "    <tr>\n",
       "      <th>2</th>\n",
       "      <td>14.29,14.09,0.905,5.291,3.337,2.699,4.825,1</td>\n",
       "    </tr>\n",
       "    <tr>\n",
       "      <th>3</th>\n",
       "      <td>13.84,13.94,0.8955,5.324,3.379,2.259,4.805,1</td>\n",
       "    </tr>\n",
       "    <tr>\n",
       "      <th>4</th>\n",
       "      <td>16.14,14.99,0.9034,5.658,3.562,1.355,5.175,1</td>\n",
       "    </tr>\n",
       "  </tbody>\n",
       "</table>\n",
       "</div>"
      ],
      "text/plain": [
       "                                              0\n",
       "0    15.26,14.84,0.871,5.763,3.312,2.221,5.22,1\n",
       "1  14.88,14.57,0.8811,5.554,3.333,1.018,4.956,1\n",
       "2   14.29,14.09,0.905,5.291,3.337,2.699,4.825,1\n",
       "3  13.84,13.94,0.8955,5.324,3.379,2.259,4.805,1\n",
       "4  16.14,14.99,0.9034,5.658,3.562,1.355,5.175,1"
      ]
     },
     "execution_count": 27,
     "metadata": {},
     "output_type": "execute_result"
    }
   ],
   "source": [
    "import pandas as pd\n",
    "\n",
    "# Lê o arquivo ignorando linhas mal formatadas\n",
    "seeds_df = pd.read_csv('seeds.csv', header=None, delim_whitespace=True, on_bad_lines='skip')\n",
    "\n",
    "# Mostra as primeiras linhas\n",
    "seeds_df.head()\n"
   ]
  },
  {
   "cell_type": "code",
   "execution_count": 28,
   "metadata": {},
   "outputs": [
    {
     "name": "stdout",
     "output_type": "stream",
     "text": [
      "[['15.26,14.84,0.871,5.763,3.312,2.221,5.22,1']\n",
      " ['14.88,14.57,0.8811,5.554,3.333,1.018,4.956,1']\n",
      " ['14.29,14.09,0.905,5.291,3.337,2.699,4.825,1']\n",
      " ['13.84,13.94,0.8955,5.324,3.379,2.259,4.805,1']\n",
      " ['16.14,14.99,0.9034,5.658,3.562,1.355,5.175,1']]\n"
     ]
    },
    {
     "name": "stderr",
     "output_type": "stream",
     "text": [
      "C:\\Users\\23214290059\\AppData\\Local\\Temp\\ipykernel_5464\\97900004.py:5: FutureWarning: The 'delim_whitespace' keyword in pd.read_csv is deprecated and will be removed in a future version. Use ``sep='\\s+'`` instead\n",
      "  seeds_df = pd.read_csv('seeds.csv', header=None, delim_whitespace=True, on_bad_lines='skip')\n"
     ]
    }
   ],
   "source": [
    "import pandas as pd\n",
    "import numpy as np\n",
    "\n",
    "# Lê o arquivo seeds.csv, ignorando linhas mal formatadas\n",
    "seeds_df = pd.read_csv('seeds.csv', header=None, delim_whitespace=True, on_bad_lines='skip')\n",
    "\n",
    "# Converte o DataFrame em um array NumPy\n",
    "seeds_array = seeds_df.to_numpy()\n",
    "\n",
    "# Exibe as primeiras linhas do array NumPy\n",
    "print(seeds_array[:5])  # Exibindo as primeiras 5 linhas do array para visualização\n",
    "\n"
   ]
  },
  {
   "cell_type": "code",
   "execution_count": 29,
   "metadata": {},
   "outputs": [],
   "source": [
    "\n",
    "from sklearn.model_selection import train_test_split\n",
    "\n",
    "# Separa os atributos (X) e o rótulo (y), assumindo que a última coluna seja o rótulo\n",
    "X = seeds_array[:, :-1]\n",
    "y = seeds_array[:, -1]\n",
    "\n",
    "# Divide os dados em treino e teste\n",
    "X_train, X_test, y_train, y_test = train_test_split(X, y, test_size=0.3, random_state=42)\n"
   ]
  },
  {
   "cell_type": "code",
   "execution_count": 32,
   "metadata": {},
   "outputs": [
    {
     "name": "stdout",
     "output_type": "stream",
     "text": [
      "Coeficiente b0 (intercepto): 4.785608776791346\n",
      "Coeficiente b1 (inclinação): 2.0449694994451018\n"
     ]
    },
    {
     "data": {
      "image/png": "[encoded data removed]",
      "text/plain": [
       "<Figure size 640x480 with 1 Axes>"
      ]
     },
     "metadata": {},
     "output_type": "display_data"
    },
    {
     "name": "stdout",
     "output_type": "stream",
     "text": [
      "Acurácia do modelo (R²): 0.97\n"
     ]
    }
   ],
   "source": [
    "import numpy as np\n",
    "import matplotlib.pyplot as plt\n",
    "from sklearn.linear_model import LinearRegression\n",
    "from sklearn.model_selection import train_test_split\n",
    "\n",
    "# Gerar dados de exemplo\n",
    "X = np.random.rand(100, 1) * 10  # 100 pontos, variando de 0 a 10\n",
    "y = 2 * X + 5 + np.random.randn(100, 1)  # Relação linear com um pouco de ruído\n",
    "\n",
    "# Dividir os dados em treino e teste\n",
    "X_train, X_test, y_train, y_test = train_test_split(X, y, test_size=0.2, random_state=42)\n",
    "\n",
    "# Criar o modelo de regressão linear\n",
    "model = LinearRegression()\n",
    "\n",
    "# Treinar o modelo\n",
    "model.fit(X_train, y_train)\n",
    "\n",
    "# Obter os coeficientes\n",
    "b0 = model.intercept_\n",
    "b1 = model.coef_\n",
    "\n",
    "print(f'Coeficiente b0 (intercepto): {b0[0]}')\n",
    "print(f'Coeficiente b1 (inclinação): {b1[0][0]}')\n",
    "\n",
    "# Fazer previsões com o conjunto de teste\n",
    "y_pred = model.predict(X_test)\n",
    "\n",
    "# Visualizar os resultados\n",
    "plt.scatter(X_test, y_test, color='blue', label='Dados reais')\n",
    "plt.plot(X_test, y_pred, color='red', label='Linha de Regressão')\n",
    "plt.xlabel('Variável Independente (X)')\n",
    "plt.ylabel('Variável Dependente (Y)')\n",
    "plt.legend()\n",
    "plt.show()\n",
    "\n",
    "# Calcular a acurácia (R²)\n",
    "r2 = model.score(X_test, y_test)\n",
    "print(f'Acurácia do modelo (R²): {r2:.2f}')\n"
   ]
  }
 ],
 "metadata": {
  "kernelspec": {
   "display_name": "Python 3",
   "language": "python",
   "name": "python3"
  },
  "language_info": {
   "codemirror_mode": {
    "name": "ipython",
    "version": 3
   },
   "file_extension": ".py",
   "mimetype": "text/x-python",
   "name": "python",
   "nbconvert_exporter": "python",
   "pygments_lexer": "ipython3",
   "version": "3.13.1"
  }
 },
 "nbformat": 4,
 "nbformat_minor": 2
}
